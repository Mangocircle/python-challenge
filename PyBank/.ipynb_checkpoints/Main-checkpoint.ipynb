{
 "cells": [
  {
   "cell_type": "code",
   "execution_count": 123,
   "id": "56077a27",
   "metadata": {},
   "outputs": [],
   "source": [
    "import os\n",
    "import csv"
   ]
  },
  {
   "cell_type": "code",
   "execution_count": 124,
   "id": "f2d7f953",
   "metadata": {},
   "outputs": [],
   "source": [
    "with open('C:/Users/Henry/Desktop/Class/Homework/Python Challenge(1)/python-challenge/PyBank/Resources/budget_data.csv',encoding='utf') as csvfile:\n",
    "    csvreader=csv.reader(csvfile,delimiter=',')\n",
    "    next(csvreader)\n",
    "    rowcount=0\n",
    "    ploss=0\n",
    "    values=[]\n",
    "    cbv=[]\n",
    "    Data=[]\n",
    "    for row in csvreader:\n",
    "        Data.append(row)\n",
    "        rowcount+=1\n",
    "        ploss+=int(row[1])\n",
    "        values.append(int(row[1]))\n",
    "    for i in range(1,len(values)):\n",
    "        cbv.append(values[i]-values[(i-1)])\n",
    "    def avg(numbers):\n",
    "        average=(sum(numbers))/len(numbers)\n",
    "        return average\n",
    "    cbva=round(avg(cbv),2)\n",
    "    maxi=max(cbv)\n",
    "    mini=min(cbv)\n",
    "\n",
    "    for x in range(len(cbv)):\n",
    "        if mini == cbv[x]:\n",
    "                     #   V skipped header row and added one to skip initial empty value\n",
    "            Gdec=(Data[x+1][0]+\" \"+\"$\"+str(cbv[x]))\n",
    "        if maxi == cbv[x]:\n",
    "                     #   V skipped header row and added one to skip initial empty value\n",
    "            Ginc=(Data[x+1][0]+\" \"+\"$\"+str(cbv[x]))"
   ]
  },
  {
   "cell_type": "code",
   "execution_count": 146,
   "id": "f70fbda5",
   "metadata": {},
   "outputs": [
    {
     "name": "stdout",
     "output_type": "stream",
     "text": [
      "Total Months: 86\n",
      "Total: $22564198\n",
      "Average Change: $-8311.11\n",
      "Greatest Increase in Profits: Aug-16 $1862002\n",
      "Greatest Decrease in Profits: Feb-14 $-1825558\n"
     ]
    }
   ],
   "source": [
    "print(\"Total Months: \"+str(rowcount))\n",
    "print(\"Total: \"+\"$\"+str(ploss))\n",
    "print(\"Average Change: \"+\"$\"+str(cbva))\n",
    "print(\"Greatest Increase in Profits: \"+Ginc)\n",
    "print(\"Greatest Decrease in Profits: \"+Gdec)"
   ]
  },
  {
   "cell_type": "code",
   "execution_count": 144,
   "id": "ca582344",
   "metadata": {},
   "outputs": [],
   "source": [
    "f=open(\"Results.txt\",\"w\")\n",
    "f.write(\"Financial Analysis\"+'\\n'+'\\n'+\"----------------------------\"+'\\n'+'\\n')\n",
    "f.write(\"Total Months: \"+str(rowcount)+'\\n')\n",
    "f.write(\"Total: \"+\"$\"+str(ploss)+'\\n')\n",
    "f.write(\"Average Change: \"+\"$\"+str(cbva)+'\\n')\n",
    "f.write(\"Greatest Increase in Profits: \"+Ginc+'\\n')\n",
    "f.write(\"Greatest Increase in Profits: \"+Gdec+'\\n')\n",
    "f.close()"
   ]
  },
  {
   "cell_type": "code",
   "execution_count": null,
   "id": "d6a18262",
   "metadata": {},
   "outputs": [],
   "source": []
  }
 ],
 "metadata": {
  "kernelspec": {
   "display_name": "Python 3 (ipykernel)",
   "language": "python",
   "name": "python3"
  },
  "language_info": {
   "codemirror_mode": {
    "name": "ipython",
    "version": 3
   },
   "file_extension": ".py",
   "mimetype": "text/x-python",
   "name": "python",
   "nbconvert_exporter": "python",
   "pygments_lexer": "ipython3",
   "version": "3.9.13"
  }
 },
 "nbformat": 4,
 "nbformat_minor": 5
}
